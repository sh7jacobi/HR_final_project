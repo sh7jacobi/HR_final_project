{
 "cells": [
  {
   "cell_type": "markdown",
   "metadata": {},
   "source": [
    "## Map resize\n",
    "- this ipynb need for resizing map and task(target and start coordinates)"
   ]
  },
  {
   "cell_type": "code",
   "execution_count": 1,
   "metadata": {},
   "outputs": [],
   "source": [
    "main_path = 'data/files/maps/256/'\n",
    "path = 'data/files/maps/'"
   ]
  },
  {
   "cell_type": "code",
   "execution_count": 4,
   "metadata": {},
   "outputs": [],
   "source": [
    "import os"
   ]
  },
  {
   "cell_type": "code",
   "execution_count": 1,
   "metadata": {},
   "outputs": [],
   "source": [
    "steps = [2, 4]\n",
    "\n",
    "for file_name in os.listdir(main_path):\n",
    "    \n",
    "    file_path = main_path + file_name\n",
    "    with open(file_path) as main_fopen:\n",
    "        \n",
    "        first_lines = [main_fopen.readline() for i in range(4)]\n",
    "        height = int(first_lines[1].split()[1])\n",
    "        width = int(first_lines[2].split()[1])\n",
    "        \n",
    "        \n",
    "        data = []\n",
    "        for line in main_fopen:\n",
    "            data.append(line)\n",
    "            \n",
    "        for step in steps:\n",
    "            path_= path + str(256//step) + '/' + file_name\n",
    "            with open(path_, 'w') as fopen:\n",
    "                print(height)\n",
    "                fopen.write(first_lines[0])\n",
    "                fopen.write('height ' + str(height//step) + '\\n')\n",
    "                fopen.write('width ' + str(width//step) + '\\n')\n",
    "                fopen.write(first_lines[3])\n",
    "                \n",
    "                for j, line in enumerate(data):\n",
    "                    if (j + 1) % step == 0:\n",
    "                        #print(j)\n",
    "                        str_line = ''.join([x for i, x in enumerate(line) if (i + 1) % step == 0]) + '\\n'\n",
    "                        #print(str_line)\n",
    "                        fopen.write(str_line)\n",
    "                    "
   ]
  },
  {
   "cell_type": "markdown",
   "metadata": {},
   "source": [
    "## Coordiations recalculating"
   ]
  },
  {
   "cell_type": "code",
   "execution_count": 5,
   "metadata": {},
   "outputs": [],
   "source": [
    "main_path = 'data/files/scens/256/'\n",
    "path = 'data/files/scens/'"
   ]
  },
  {
   "cell_type": "code",
   "execution_count": 19,
   "metadata": {},
   "outputs": [],
   "source": [
    "steps = [2, 4]\n",
    "\n",
    "for file_name in os.listdir(main_path):\n",
    "    \n",
    "    file_path = main_path + file_name\n",
    "    with open(file_path) as main_fopen:\n",
    "        \n",
    "        first_lines = main_fopen.readline()\n",
    "        \n",
    "        \n",
    "        data = []\n",
    "        for line in main_fopen:\n",
    "            data.append(line)\n",
    "            \n",
    "        for step in steps:\n",
    "            path_= path + str(256//step) + '/' + file_name\n",
    "            with open(path_, 'w') as fopen:\n",
    "                \n",
    "                for line in data:\n",
    "                    \n",
    "                    split_line = line.split()\n",
    "                    str_line = ''.join(([x + '\\t' for x in split_line[:2]] + [str(int(x) // step) + '\\t' for x in split_line[2:8]] \\\n",
    "                                + split_line[8:])) + '\\n'\n",
    "                    fopen.write(str_line)"
   ]
  }
 ],
 "metadata": {
  "kernelspec": {
   "display_name": "Python 3",
   "language": "python",
   "name": "python3"
  },
  "language_info": {
   "codemirror_mode": {
    "name": "ipython",
    "version": 3
   },
   "file_extension": ".py",
   "mimetype": "text/x-python",
   "name": "python",
   "nbconvert_exporter": "python",
   "pygments_lexer": "ipython3",
   "version": "3.6.9"
  }
 },
 "nbformat": 4,
 "nbformat_minor": 4
}
