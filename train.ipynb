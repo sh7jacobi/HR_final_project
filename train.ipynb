{
 "cells": [
  {
   "cell_type": "code",
   "execution_count": null,
   "metadata": {},
   "outputs": [],
   "source": [
    "import torch\n",
    "import torch.nn as nn\n",
    "import torch.optim as optim\n",
    "from torch.optim import lr_scheduler\n",
    "import numpy as np\n",
    "import torchvision\n",
    "from torchvision import datasets, models, transforms\n",
    "from torch.utils.data import DataLoader\n",
    "#import matplotlib.pyplot as plt\n",
    "import time\n",
    "import os\n",
    "import copy\n",
    "import segmentation_models_pytorch as smp"
   ]
  },
  {
   "cell_type": "code",
   "execution_count": 1,
   "metadata": {},
   "outputs": [
    {
     "data": {
      "text/plain": [
       "['112_25_Denver_0_256.map',\n",
       " '150_162_London_0_256.map',\n",
       " '121_40_NewYork_0_256.map',\n",
       " '228_29_Berlin_1_256.map',\n",
       " '243_117_Boston_0_256.map']"
      ]
     },
     "execution_count": 1,
     "metadata": {},
     "output_type": "execute_result"
    }
   ],
   "source": [
    "import os \n",
    "\n",
    "os.listdir('data/files/dataset/256/train/input/Goal_map')[:5]"
   ]
  },
  {
   "cell_type": "code",
   "execution_count": 2,
   "metadata": {},
   "outputs": [
    {
     "data": {
      "text/plain": [
       "['112_25_Denver_0_256.map',\n",
       " '150_162_London_0_256.map',\n",
       " '121_40_NewYork_0_256.map',\n",
       " '228_29_Berlin_1_256.map',\n",
       " '243_117_Boston_0_256.map']"
      ]
     },
     "execution_count": 2,
     "metadata": {},
     "output_type": "execute_result"
    }
   ],
   "source": [
    "os.listdir('data/files/dataset/256/train/output')[:5]"
   ]
  },
  {
   "cell_type": "code",
   "execution_count": 3,
   "metadata": {},
   "outputs": [
    {
     "name": "stdout",
     "output_type": "stream",
     "text": [
      "data/files/dataset/256/train/input/input_map/Denver_0_256.map\n",
      "data/files/dataset/256/train/input/input_map/London_0_256.map\n",
      "data/files/dataset/256/train/input/input_map/NewYork_0_256.map\n",
      "data/files/dataset/256/train/input/input_map/Berlin_1_256.map\n",
      "data/files/dataset/256/train/input/input_map/Boston_0_256.map\n"
     ]
    }
   ],
   "source": [
    "for line in os.listdir('data/files/dataset/256/train/input/Goal_map')[:5]:\n",
    "    line = line.split('_')[2:]\n",
    "    file_name = line[0]\n",
    "    for el in line[1:]:\n",
    "        file_name += '_' + el\n",
    "    print('data/files/dataset/256/train/input/input_map/' + file_name)"
   ]
  },
  {
   "cell_type": "code",
   "execution_count": null,
   "metadata": {},
   "outputs": [],
   "source": [
    "import numpy as np\n",
    "from torch.utils.data import Dataset\n",
    "import os\n",
    "\n",
    "def read_data(path):\n",
    "    data = []\n",
    "    with open(path, 'r') as fopen:\n",
    "        for line in fopen:\n",
    "            data.append([float(x) for x in line.strip('\\n').split()])\n",
    "            \n",
    "    return data\n",
    "\n",
    "\n",
    "\n",
    "class MyDataset(Dataset):\n",
    "    def __init__(self, path):\n",
    "        self.input_path1 = path + 'input/input_map/'\n",
    "        self.input_path2 = path + 'input/Goal_map/'\n",
    "        self.target_path = path + 'output/'\n",
    "        \n",
    "    def __len__(self):\n",
    "        return len(os.listdir(self.target_path))\n",
    "    \n",
    "    def __getitem__(self, idx):\n",
    "        \n",
    "        in_path2 = self.input_path2 + os.listdir(self.input_path2)[idx]\n",
    "        \n",
    "        line = os.listdir(self.input_path2)[idx].split('_')[2:]\n",
    "        file_name = line[0]\n",
    "        for el in line[1:]:\n",
    "            file_name += '_' + el\n",
    "        in_path1 = self.input_path1 + file_name\n",
    "        \n",
    "        tar_path = self.target_path + os.listdir(self.target_path)[idx]\n",
    "        \n",
    "        in_data1 = read_data(in_path1)\n",
    "        in_data2 = read_data(in_path2)\n",
    "        in_data = np.array([in_data1, in_data2], dtype='float32')\n",
    "        \n",
    "        tar_data = read_data(tar_path)\n",
    "        tar_data = np.array([tar_data], dtype='float32')\n",
    "        \n",
    "        return in_data, tar_data"
   ]
  },
  {
   "cell_type": "code",
   "execution_count": null,
   "metadata": {},
   "outputs": [],
   "source": [
    "path = 'data/files/dataset/256/train/'\n",
    "input_path1 = path + 'input/input_map/'\n",
    "input_path2 = path + 'input/Goal_map/'\n",
    "target_path = path + 'output/'\n",
    "\n",
    "\n",
    "def delete():\n",
    "    \n",
    "    for i, file_name in enumerate(os.listdir(input_path2)):\n",
    "\n",
    "        print('iter = {}'.format(i), end='\\r')\n",
    "        in_path2 = input_path2 + file_name\n",
    "\n",
    "        tar_path = target_path + file_name\n",
    "\n",
    "        in_data2 = read_data(in_path2)\n",
    "        tar_data = read_data(tar_path)\n",
    "        if len(in_data2) < 256 or len(tar_data) < 256:\n",
    "            print(in_path2, len(in_data2))\n",
    "            os.system('rm ' + in_path2)\n",
    "            os.system('rm ' + tar_path)\n",
    "\n",
    "    print('DONE!!!!!!!!!!')\n",
    "        \n",
    "#delete()"
   ]
  },
  {
   "cell_type": "code",
   "execution_count": null,
   "metadata": {},
   "outputs": [],
   "source": [
    "def check(path1, path2):\n",
    "    for x1, x2 in zip(os.listdir(path1), os.listdir(path2)):\n",
    "        if x1 != x2:\n",
    "            print('NO!!!!')\n",
    "            break\n",
    "    print('YES!')\n",
    "\n",
    "path1 = 'data/files/train/input/Goal_map'\n",
    "path2 = 'data/files/train/output'\n",
    "            \n",
    "#check(path1, path2)"
   ]
  },
  {
   "cell_type": "markdown",
   "metadata": {},
   "source": [
    "## Set no grad encoder"
   ]
  },
  {
   "cell_type": "code",
   "execution_count": null,
   "metadata": {},
   "outputs": [],
   "source": [
    "def set_no_grad_encoder(model):\n",
    "    for parameter in model.encoder.parameters():\n",
    "        parameter.requires_grad_(False)"
   ]
  },
  {
   "cell_type": "markdown",
   "metadata": {},
   "source": [
    "## Prepare data"
   ]
  },
  {
   "cell_type": "code",
   "execution_count": null,
   "metadata": {},
   "outputs": [],
   "source": [
    "\n",
    "def Get_Dataset(train_path, test_path, batch_size):\n",
    "    train_dataset = MyDataset(train_path)\n",
    "    test_dataset = MyDataset(test_path)\n",
    "\n",
    "    dataloaders = {'train' : DataLoader(train_dataset, batch_size=batch_size, shuffle=True),\n",
    "                  'val' : DataLoader(test_dataset, batch_size=batch_size, shuffle=True)}\n",
    "\n",
    "    dataset_sizes = {'train' : len(train_dataset),\n",
    "                    'val' : len(test_dataset)}\n",
    "\n",
    "    \n",
    "    return dataloaders, dataset_sizes"
   ]
  },
  {
   "cell_type": "markdown",
   "metadata": {},
   "source": [
    "# Train fuction"
   ]
  },
  {
   "cell_type": "code",
   "execution_count": 1,
   "metadata": {},
   "outputs": [],
   "source": [
    "def train_model(model, criterion, optimizer, scheduler, allowed_indexes=False, num_epochs=100):\n",
    "    since = time.time()\n",
    "\n",
    "    global best_model_wts\n",
    "    global model_save_path\n",
    "    #best_acc = 0.0\n",
    "    best_loss = np.inf\n",
    "\n",
    "    for epoch in range(num_epochs):\n",
    "        print('Epoch {}/{}'.format(epoch, num_epochs - 1))\n",
    "        print('-' * 10)\n",
    "\n",
    "        # Each epoch has a training and validation phase\n",
    "        for phase in ['train', 'val']:\n",
    "            if phase == 'train':\n",
    "                model.train()  # Set model to training mode\n",
    "            else:\n",
    "                model.eval()   # Set model to evaluate mode\n",
    "\n",
    "            running_loss = 0.0\n",
    "            #running_corrects = 0\n",
    "\n",
    "            \n",
    "            # Iterate over data.\n",
    "            it = 0\n",
    "            for inputs, labels in dataloaders[phase]:\n",
    "                \n",
    "                print('iter = {}'.format(it), end='\\r')\n",
    "                it += inputs.size(0)\n",
    "                \n",
    "                inputs = inputs.to(device)\n",
    "                labels = labels.to(device)\n",
    "\n",
    "                # zero the parameter gradients\n",
    "                optimizer.zero_grad()\n",
    "\n",
    "                # forward\n",
    "                # track history if only in train\n",
    "                with torch.set_grad_enabled(phase == 'train'):\n",
    "                    \n",
    "                    outputs = model(inputs)\n",
    "                    \n",
    "                    if allowed_indexes:\n",
    "                        indexes = inputs[:, :1] == 0\n",
    "                        outputs = outputs[indexes]\n",
    "                        labels = labels[indexes]\n",
    "                    #_, preds = torch.max(outputs, 1)\n",
    "                    loss = criterion(outputs, labels)\n",
    "\n",
    "                    # backward + optimize only if in training phase\n",
    "                    if phase == 'train':\n",
    "                        loss.backward()\n",
    "                        optimizer.step()\n",
    "\n",
    "                # statistics\n",
    "                running_loss += loss.item() * inputs.size(0)\n",
    "                #running_corrects += torch.sum(preds == labels.data)\n",
    "            if phase == 'train':\n",
    "                scheduler.step()\n",
    "\n",
    "            epoch_loss = running_loss / dataset_sizes[phase]\n",
    "            #epoch_acc = running_corrects.double() / dataset_sizes[phase]\n",
    "\n",
    "            print('{} Loss: {:.4f}'.format(\n",
    "                phase, epoch_loss))\n",
    "\n",
    "            # deep copy the model\n",
    "            if phase == 'val' and epoch_loss < best_loss:\n",
    "                best_loss = epoch_loss\n",
    "                best_model_wts = copy.deepcopy(model.state_dict())\n",
    "                torch.save(model, model_save_path)\n",
    "\n",
    "        print()\n",
    "\n",
    "    time_elapsed = time.time() - since\n",
    "    print('Training complete in {:.0f}m {:.0f}s'.format(\n",
    "        time_elapsed // 60, time_elapsed % 60))\n",
    "    print('Best val Loss: {:4f}'.format(best_loss))\n",
    "\n",
    "    # load best model weights\n",
    "    model.load_state_dict(best_model_wts)\n",
    "    return model\n"
   ]
  },
  {
   "cell_type": "markdown",
   "metadata": {},
   "source": [
    "### Set model, criterion, optimizer, lr_scheduler"
   ]
  },
  {
   "cell_type": "code",
   "execution_count": null,
   "metadata": {},
   "outputs": [],
   "source": [
    "def Get_MCOS():\n",
    "\n",
    "    model = smp.Unet('resnet34', encoder_weights='imagenet', in_channels=2)\n",
    "    set_no_grad_encoder(model)\n",
    "\n",
    "    model = model.to(device)\n",
    "\n",
    "    criterion = nn.MSELoss()\n",
    "\n",
    "    # Observe that all parameters are being optimized\n",
    "    optimizer = optim.Adam(model.parameters(), lr=0.001)\n",
    "\n",
    "    # Decay LR by a factor of 0.1 every 7 epochs\n",
    "    exp_lr_scheduler = lr_scheduler.StepLR(optimizer, step_size=10, gamma=0.1)\n",
    "    \n",
    "    return model, criterion, optimizer, exp_lr_scheduler"
   ]
  },
  {
   "cell_type": "markdown",
   "metadata": {},
   "source": [
    "## Set device and batch_size"
   ]
  },
  {
   "cell_type": "code",
   "execution_count": null,
   "metadata": {},
   "outputs": [],
   "source": [
    "batch_size = 32\n",
    "epoch = 50\n",
    "\n",
    "device = torch.device(\"cuda:0\" if torch.cuda.is_available() else \"cpu\")"
   ]
  },
  {
   "cell_type": "markdown",
   "metadata": {},
   "source": [
    "# Trainning using all output"
   ]
  },
  {
   "cell_type": "markdown",
   "metadata": {},
   "source": [
    "### map_size 256"
   ]
  },
  {
   "cell_type": "code",
   "execution_count": null,
   "metadata": {},
   "outputs": [],
   "source": [
    "# set paths\n",
    "train_path = 'data/files/dataset/256/train/'\n",
    "test_path = 'data/files/dataset/256/test/'\n",
    "model_save_path = 'model/model_256.pt'\n",
    "\n",
    "# set dataloaders\n",
    "dataloaders, dataset_sizes = Get_Dataset(train_path, test_path, batch_size)\n",
    "model, criterion, optimizer, exp_lr_scheduler = Get_MCOS()\n",
    "\n",
    "\n",
    "best_model_wts = copy.deepcopy(model.state_dict())\n",
    "\n",
    "model_ft = train_model(model, criterion, optimizer, exp_lr_scheduler,\n",
    "                       num_epochs=epoch)\n",
    "\n"
   ]
  },
  {
   "cell_type": "markdown",
   "metadata": {},
   "source": [
    "### map_size 128"
   ]
  },
  {
   "cell_type": "code",
   "execution_count": null,
   "metadata": {},
   "outputs": [],
   "source": [
    "# set paths\n",
    "train_path = 'data/files/dataset/128/train/'\n",
    "test_path = 'data/files/dataset/128/test/'\n",
    "model_save_path = 'model/model_128.pt'\n",
    "\n",
    "# set dataloaders\n",
    "dataloaders, dataset_sizes = Get_Dataset(train_path, test_path, batch_size)\n",
    "model, criterion, optimizer, exp_lr_scheduler = Get_MCOS()\n",
    "\n",
    "\n",
    "best_model_wts = copy.deepcopy(model.state_dict())\n",
    "\n",
    "model_ft = train_model(model, criterion, optimizer, exp_lr_scheduler,\n",
    "                       num_epochs=epoch)\n",
    "\n"
   ]
  },
  {
   "cell_type": "markdown",
   "metadata": {},
   "source": [
    "### map_size 64"
   ]
  },
  {
   "cell_type": "code",
   "execution_count": null,
   "metadata": {},
   "outputs": [],
   "source": [
    "# set paths\n",
    "train_path = 'data/files/dataset/64/train/'\n",
    "test_path = 'data/files/dataset/64/test/'\n",
    "model_save_path = 'model/model_64.pt'\n",
    "\n",
    "# set dataloaders\n",
    "dataloaders, dataset_sizes = Get_Dataset(train_path, test_path, batch_size)\n",
    "model, criterion, optimizer, exp_lr_scheduler = Get_MCOS()\n",
    "\n",
    "\n",
    "best_model_wts = copy.deepcopy(model.state_dict())\n",
    "\n",
    "model_ft = train_model(model, criterion, optimizer, exp_lr_scheduler,\n",
    "                       num_epochs=epoch)\n",
    "\n"
   ]
  },
  {
   "cell_type": "markdown",
   "metadata": {},
   "source": [
    "## Trainning using outputs with index in which input values is zero"
   ]
  },
  {
   "cell_type": "markdown",
   "metadata": {},
   "source": [
    "### map_size 256"
   ]
  },
  {
   "cell_type": "code",
   "execution_count": null,
   "metadata": {},
   "outputs": [],
   "source": [
    "# set paths\n",
    "train_path = 'data/files/dataset/256/train/'\n",
    "test_path = 'data/files/dataset/256/test/'\n",
    "model_save_path = 'model/model_256_zero.pt'\n",
    "\n",
    "# set dataloaders\n",
    "dataloaders, dataset_sizes = Get_Dataset(train_path, test_path, batch_size)\n",
    "model, criterion, optimizer, exp_lr_scheduler = Get_MCOS()\n",
    "\n",
    "\n",
    "best_model_wts = copy.deepcopy(model.state_dict())\n",
    "\n",
    "model_ft = train_model(model, criterion, optimizer, exp_lr_scheduler, allowed_indexes=True,\n",
    "                       num_epochs=epoch)\n"
   ]
  },
  {
   "cell_type": "markdown",
   "metadata": {},
   "source": [
    "### map_size 128"
   ]
  },
  {
   "cell_type": "code",
   "execution_count": null,
   "metadata": {},
   "outputs": [],
   "source": [
    "# set paths\n",
    "train_path = 'data/files/dataset/128/train/'\n",
    "test_path = 'data/files/dataset/128/test/'\n",
    "model_save_path = 'model/model_128.pt'\n",
    "\n",
    "# set dataloaders\n",
    "dataloaders, dataset_sizes = Get_Dataset(train_path, test_path, batch_size)\n",
    "model, criterion, optimizer, exp_lr_scheduler = Get_MCOS()\n",
    "\n",
    "\n",
    "best_model_wts = copy.deepcopy(model.state_dict())\n",
    "\n",
    "model_ft = train_model(model, criterion, optimizer, exp_lr_scheduler, allowed_indexes=True,\n",
    "                       num_epochs=epoch)"
   ]
  },
  {
   "cell_type": "markdown",
   "metadata": {},
   "source": [
    "### map_size 64"
   ]
  },
  {
   "cell_type": "code",
   "execution_count": null,
   "metadata": {},
   "outputs": [],
   "source": [
    "# set paths\n",
    "train_path = 'data/files/dataset/64/train/'\n",
    "test_path = 'data/files/dataset/64/test/'\n",
    "model_save_path = 'model/model_64.pt'\n",
    "\n",
    "# set dataloaders\n",
    "dataloaders, dataset_sizes = Get_Dataset(train_path, test_path, batch_size)\n",
    "model, criterion, optimizer, exp_lr_scheduler = Get_MCOS()\n",
    "\n",
    "\n",
    "best_model_wts = copy.deepcopy(model.state_dict())\n",
    "\n",
    "model_ft = train_model(model, criterion, optimizer, exp_lr_scheduler, allowed_indexes=True,\n",
    "                       num_epochs=epoch)"
   ]
  }
 ],
 "metadata": {
  "kernelspec": {
   "display_name": "Python 3",
   "language": "python",
   "name": "python3"
  },
  "language_info": {
   "codemirror_mode": {
    "name": "ipython",
    "version": 3
   },
   "file_extension": ".py",
   "mimetype": "text/x-python",
   "name": "python",
   "nbconvert_exporter": "python",
   "pygments_lexer": "ipython3",
   "version": "3.6.9"
  }
 },
 "nbformat": 4,
 "nbformat_minor": 4
}
